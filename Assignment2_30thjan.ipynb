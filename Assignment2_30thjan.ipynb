{
 "cells": [
  {
   "cell_type": "markdown",
   "id": "17f52e78",
   "metadata": {},
   "source": [
    "Q1. Write a Python program to accept percentage from the user and display the grade accordint to the following criteria :"
   ]
  },
  {
   "cell_type": "code",
   "execution_count": 6,
   "id": "47cf74a6",
   "metadata": {},
   "outputs": [
    {
     "name": "stdout",
     "output_type": "stream",
     "text": [
      "Enter your percentage : 56\n",
      "You have acquired grade D\n"
     ]
    }
   ],
   "source": [
    "Marks = int(input(\"Enter your percentage : \"))\n",
    "\n",
    "if Marks > 90: \n",
    "    print(\" You have acquired grade A\")\n",
    "elif  Marks > 80 and Marks <= 90:\n",
    "    print(\"You have acquired grade B\")\n",
    "elif Marks >= 60 and Marks <= 80 :\n",
    "    print(\"You have acquired Grade C\")\n",
    "else:\n",
    "    print(\"You have acquired grade D\")"
   ]
  },
  {
   "cell_type": "markdown",
   "id": "f26139bd",
   "metadata": {},
   "source": [
    "Q2. Write a program to accept the cost price of a bike and display the road tax to be paid according to the following criteria: \n"
   ]
  },
  {
   "cell_type": "code",
   "execution_count": 10,
   "id": "fbffc829",
   "metadata": {},
   "outputs": [
    {
     "name": "stdout",
     "output_type": "stream",
     "text": [
      "Enter the cost price of your bike  : 45000\n",
      " Road tax to be paid is Rs.  2250.0\n"
     ]
    }
   ],
   "source": [
    "Bike_cost = int(input(\"Enter the cost price of your bike  : \"))\n",
    "\n",
    "if Bike_cost > 100000:\n",
    "    tax = 15/100 * Bike_cost\n",
    "    print(\" Road tax to be paid is Rs. \", tax)\n",
    "elif  Bike_cost > 50000 and  Bike_cost <= 100000:\n",
    "    tax = 10/100 * Bike_cost\n",
    "    print(\" Road tax to be paid is Rs.\", tax)\n",
    "else:\n",
    "    tax = 5 /100 * Bike_cost\n",
    "    print(\" Road tax to be paid is Rs. \", tax)"
   ]
  },
  {
   "cell_type": "markdown",
   "id": "d4a3fa93",
   "metadata": {},
   "source": [
    "# Question 3"
   ]
  },
  {
   "cell_type": "code",
   "execution_count": 4,
   "id": "788fc1e3",
   "metadata": {},
   "outputs": [
    {
     "name": "stdout",
     "output_type": "stream",
     "text": [
      "Enter the name of the city :agra\n",
      "The famous monument here is The Red Fort\n"
     ]
    }
   ],
   "source": [
    "City = input(\"Enter the name of the city :\")\n",
    "\n",
    "if City == \"Delhi\" or \"delhi\":\n",
    "    print(\"The famous monument here is The Red Fort\")\n",
    "elif City == \"Agra\" or \"agra\":\n",
    "    print(\"The famous monument here is the Taj Mahal\")\n",
    "else:\n",
    "    print(\"The famous monument in Jaipur is the Jal Mahal\")"
   ]
  },
  {
   "cell_type": "markdown",
   "id": "7bb77936",
   "metadata": {},
   "source": [
    "Q4. Check how many times a number can be divided by 3 before it is less than equal to 10\n"
   ]
  },
  {
   "cell_type": "code",
   "execution_count": null,
   "id": "07a2d612",
   "metadata": {},
   "outputs": [
    {
     "name": "stdout",
     "output_type": "stream",
     "text": [
      "Enter the number : 76\n"
     ]
    }
   ],
   "source": [
    "n = int(input(\"Enter the number : \"))\n",
    "\n",
    "cntr = 0 \n",
    "while n > 0 :\n",
    "    n  == n / 3\n",
    "    cntr = cntr + 1\n",
    "print(cntr)"
   ]
  },
  {
   "cell_type": "markdown",
   "id": "ab4bce55",
   "metadata": {},
   "source": [
    " Q5 . Why and when to use while loop in Python??"
   ]
  },
  {
   "cell_type": "code",
   "execution_count": 4,
   "id": "4687b0b6",
   "metadata": {},
   "outputs": [
    {
     "name": "stdout",
     "output_type": "stream",
     "text": [
      "1\n",
      "2\n",
      "3\n",
      "4\n",
      "5\n",
      "6\n",
      "7\n",
      "8\n",
      "9\n",
      "10\n",
      "11\n",
      "12\n",
      "13\n",
      "14\n",
      "15\n",
      "16\n"
     ]
    }
   ],
   "source": [
    "#We use while loop  when we want to loop over as long as a particular condition is true  \n",
    "# We need to use while loop when we are given with a problem statement which involves looping over a condition..\n",
    "\n",
    "# Eg \n",
    "\n",
    "\n",
    "i = 0 \n",
    "while i <= 15:\n",
    "    i += 1\n",
    "    print(i)\n",
    "   "
   ]
  },
  {
   "cell_type": "markdown",
   "id": "4f40bd4c",
   "metadata": {},
   "source": [
    "Q6. Use nested while loop to print three different patterns:"
   ]
  },
  {
   "cell_type": "code",
   "execution_count": 10,
   "id": "24208f0e",
   "metadata": {},
   "outputs": [
    {
     "name": "stdout",
     "output_type": "stream",
     "text": [
      "* \n",
      "\n",
      "* * \n",
      "\n",
      "* * * \n",
      "\n",
      "* * * * \n",
      "\n",
      "* * * * * \n",
      "\n"
     ]
    }
   ],
   "source": [
    "#pattern1\n",
    "n=5\n",
    " \n",
    "i=1;j=0\n",
    "while(i<=n):\n",
    "    while(j<=i-1):\n",
    "        print(\"* \",end=\"\")\n",
    "        j+=1\n",
    "     \n",
    "    print(\"\\n\")\n",
    "    j=0;i+=1\n",
    " \n",
    "\n"
   ]
  },
  {
   "cell_type": "code",
   "execution_count": 9,
   "id": "aea7f558",
   "metadata": {},
   "outputs": [
    {
     "name": "stdout",
     "output_type": "stream",
     "text": [
      "\n",
      "% \n",
      "% % \n",
      "% % % \n",
      "% % % % \n",
      "% % % % % \n",
      "% % % % % % \n"
     ]
    }
   ],
   "source": [
    "#pattern 2\n",
    "n = 7\n",
    "i = 0\n",
    "\n",
    "while (i < n):\n",
    "    print(\"\" * (n - i) + \"% \" * i)\n",
    "    i += 1"
   ]
  },
  {
   "cell_type": "code",
   "execution_count": 8,
   "id": "d417286f",
   "metadata": {},
   "outputs": [
    {
     "name": "stdout",
     "output_type": "stream",
     "text": [
      "       \n",
      "      # \n",
      "     # # \n",
      "    # # # \n",
      "   # # # # \n",
      "  # # # # # \n",
      " # # # # # # \n"
     ]
    }
   ],
   "source": [
    "#pattern3\n",
    "n = 7 \n",
    "i = 0\n",
    "\n",
    "while (i < n):\n",
    "    print(\" \" * (n - i) + \"# \" * i)\n",
    "    i += 1"
   ]
  },
  {
   "cell_type": "markdown",
   "id": "e588e92b",
   "metadata": {},
   "source": [
    "# Question 7 & 8"
   ]
  },
  {
   "cell_type": "code",
   "execution_count": 7,
   "id": "5ef31710",
   "metadata": {},
   "outputs": [
    {
     "name": "stdout",
     "output_type": "stream",
     "text": [
      "10\n",
      "9\n",
      "8\n",
      "7\n",
      "6\n",
      "5\n",
      "4\n",
      "3\n",
      "2\n",
      "1\n"
     ]
    }
   ],
   "source": [
    "n = 10\n",
    "i = 0\n",
    "while i < n:\n",
    "    print(n-i)\n",
    "    i+=1"
   ]
  },
  {
   "cell_type": "code",
   "execution_count": null,
   "id": "912a256e",
   "metadata": {},
   "outputs": [],
   "source": []
  }
 ],
 "metadata": {
  "kernelspec": {
   "display_name": "Python 3",
   "language": "python",
   "name": "python3"
  },
  "language_info": {
   "codemirror_mode": {
    "name": "ipython",
    "version": 3
   },
   "file_extension": ".py",
   "mimetype": "text/x-python",
   "name": "python",
   "nbconvert_exporter": "python",
   "pygments_lexer": "ipython3",
   "version": "3.8.8"
  }
 },
 "nbformat": 4,
 "nbformat_minor": 5
}
